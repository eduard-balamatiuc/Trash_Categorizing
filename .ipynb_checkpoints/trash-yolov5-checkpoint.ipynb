{
 "cells": [
  {
   "cell_type": "code",
   "execution_count": 6,
   "id": "f4d201f7",
   "metadata": {},
   "outputs": [
    {
     "name": "stderr",
     "output_type": "stream",
     "text": [
      "YOLOv5  2022-3-14 torch 1.11.0+cu113 CUDA:0 (NVIDIA GeForce RTX 3050 Laptop GPU, 4096MiB)\n",
      "\n",
      "Fusing layers... \n",
      "Model Summary: 213 layers, 7074853 parameters, 0 gradients\n",
      "Adding AutoShape... \n"
     ]
    }
   ],
   "source": [
    "model = torch.hub.load(r'D:\\My-personal-projects\\My-personal-projects\\CV_YoloV5\\trash\\yolov5-master', 'custom', path=r'D:\\My-personal-projects\\My-personal-projects\\CV_YoloV5\\trash\\yolov5 training weights\\second.pt', source = 'local', force_reload=True)"
   ]
  },
  {
   "cell_type": "code",
   "execution_count": 8,
   "id": "549fe8c8",
   "metadata": {},
   "outputs": [
    {
     "name": "stderr",
     "output_type": "stream",
     "text": [
      "image 1/1: 750x750 1 Clear plastic bottle, 1 Other carton\n",
      "Speed: 14.0ms pre-process, 126.1ms inference, 40.0ms NMS per image at shape (1, 3, 640, 640)\n",
      "Saved 1 image to \u001b[1mruns\\detect\\exp\u001b[0m\n"
     ]
    }
   ],
   "source": [
    "import cv2\n",
    "\n",
    "from PIL import Image\n",
    "img1 = Image.open(r'D:\\My-personal-projects\\My-personal-projects\\CV_YoloV5\\trash\\000017_JPG.rf.486d2656f27dfd9ca6fa975ab2c19e3c.jpg')  # PIL image\n",
    "\n",
    "\n",
    "# Inference\n",
    "results = model(img1, size=640)\n",
    "results.print()  \n",
    "results.show()\n",
    "results.save()\n"
   ]
  },
  {
   "cell_type": "code",
   "execution_count": null,
   "id": "dcc480ba",
   "metadata": {},
   "outputs": [],
   "source": []
  }
 ],
 "metadata": {
  "kernelspec": {
   "display_name": "Python 3 (ipykernel)",
   "language": "python",
   "name": "python3"
  },
  "language_info": {
   "codemirror_mode": {
    "name": "ipython",
    "version": 3
   },
   "file_extension": ".py",
   "mimetype": "text/x-python",
   "name": "python",
   "nbconvert_exporter": "python",
   "pygments_lexer": "ipython3",
   "version": "3.7.9"
  }
 },
 "nbformat": 4,
 "nbformat_minor": 5
}
