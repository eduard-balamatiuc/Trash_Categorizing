{
 "cells": [
  {
   "cell_type": "code",
   "execution_count": 1,
   "id": "227df70c",
   "metadata": {},
   "outputs": [],
   "source": [
    "import torch \n",
    "import pandas as pd"
   ]
  },
  {
   "cell_type": "code",
   "execution_count": 2,
   "id": "c0140187",
   "metadata": {},
   "outputs": [
    {
     "name": "stderr",
     "output_type": "stream",
     "text": [
      "YOLOv5  2022-3-14 torch 1.11.0+cu113 CUDA:0 (NVIDIA GeForce RTX 3050 Laptop GPU, 4096MiB)\n",
      "\n",
      "Fusing layers... \n",
      "Model Summary: 213 layers, 7074853 parameters, 0 gradients\n",
      "Adding AutoShape... \n"
     ]
    }
   ],
   "source": [
    "model = torch.hub.load(r\"D:\\My-personal-projects\\My-personal-projects\\ML - Trash Categorizing\\yolov5-master\", 'custom', path=r\"D:\\My-personal-projects\\My-personal-projects\\ML - Trash Categorizing\\yolov5 training weights\\second.pt\", source = 'local', force_reload=True)\n"
   ]
  },
  {
   "cell_type": "code",
   "execution_count": 5,
   "id": "a9aecceb",
   "metadata": {},
   "outputs": [],
   "source": [
    "from PIL import Image\n",
    "import requests"
   ]
  },
  {
   "cell_type": "code",
   "execution_count": 6,
   "id": "d38fec57",
   "metadata": {},
   "outputs": [],
   "source": [
    "url = 'https://raw.githubusercontent.com/pyramixofficial/My-personal-projects/main/ML%20-%20Trash%20Categorizing/imagees/trash_img.jpg'\n",
    "image = Image.open(requests.get(url, stream=True).raw)"
   ]
  },
  {
   "cell_type": "code",
   "execution_count": 7,
   "id": "41882686",
   "metadata": {},
   "outputs": [],
   "source": [
    "image_result = model(image, size = 640)"
   ]
  },
  {
   "cell_type": "code",
   "execution_count": 17,
   "id": "297e2a94",
   "metadata": {},
   "outputs": [
    {
     "name": "stdout",
     "output_type": "stream",
     "text": [
      "Help on class Detections in module models.common:\n",
      "\n",
      "class Detections(builtins.object)\n",
      " |  Detections(imgs, pred, files, times=(0, 0, 0, 0), names=None, shape=None)\n",
      " |  \n",
      " |  Methods defined here:\n",
      " |  \n",
      " |  __init__(self, imgs, pred, files, times=(0, 0, 0, 0), names=None, shape=None)\n",
      " |      Initialize self.  See help(type(self)) for accurate signature.\n",
      " |  \n",
      " |  __len__(self)\n",
      " |  \n",
      " |  crop(self, save=True, save_dir='runs/detect/exp')\n",
      " |  \n",
      " |  display(self, pprint=False, show=False, save=False, crop=False, render=False, save_dir=WindowsPath('.'))\n",
      " |  \n",
      " |  pandas(self)\n",
      " |  \n",
      " |  print(self)\n",
      " |  \n",
      " |  render(self)\n",
      " |  \n",
      " |  save(self, save_dir='runs/detect/exp')\n",
      " |  \n",
      " |  show(self)\n",
      " |  \n",
      " |  tolist(self)\n",
      " |  \n",
      " |  ----------------------------------------------------------------------\n",
      " |  Data descriptors defined here:\n",
      " |  \n",
      " |  __dict__\n",
      " |      dictionary for instance variables (if defined)\n",
      " |  \n",
      " |  __weakref__\n",
      " |      list of weak references to the object (if defined)\n",
      " |  \n",
      " |  ----------------------------------------------------------------------\n",
      " |  Data and other attributes defined here:\n",
      " |  \n",
      " |  __slotnames__ = []\n",
      "\n"
     ]
    }
   ],
   "source": [
    "help(type(image_result))"
   ]
  },
  {
   "cell_type": "code",
   "execution_count": 27,
   "id": "64dc7947",
   "metadata": {},
   "outputs": [
    {
     "data": {
      "text/plain": [
       "['Aluminium foil',\n",
       " 'Broken glass',\n",
       " 'Cigarette',\n",
       " 'Clear plastic bottle',\n",
       " 'Corrugated carton',\n",
       " 'Disposable plastic cup',\n",
       " 'Drink can',\n",
       " 'Garbage bag',\n",
       " 'Glass bottle',\n",
       " 'Metal bottle cap',\n",
       " 'Normal paper',\n",
       " 'Other carton',\n",
       " 'Other plastic wrapper',\n",
       " 'Other plastic',\n",
       " 'Paper cup',\n",
       " 'Plastic bottle cap',\n",
       " 'Plastic film',\n",
       " 'Plastic lid',\n",
       " 'Plastic straw',\n",
       " 'Pop tab',\n",
       " 'Rope - strings',\n",
       " 'Single-use carrier bag',\n",
       " 'Styrofoam piece',\n",
       " 'Unlabeled litter']"
      ]
     },
     "execution_count": 27,
     "metadata": {},
     "output_type": "execute_result"
    }
   ],
   "source": [
    "image_result.__dict__['names']"
   ]
  },
  {
   "cell_type": "code",
   "execution_count": 48,
   "id": "89dfc074",
   "metadata": {},
   "outputs": [],
   "source": [
    "import numpy as np\n",
    "import pandas as pd"
   ]
  },
  {
   "cell_type": "code",
   "execution_count": 54,
   "id": "80c24cde",
   "metadata": {},
   "outputs": [
    {
     "data": {
      "text/plain": [
       "tensor([[372.53912, 412.11624, 453.60800, 497.47305,   0.91602,   0.00000],\n",
       "        [131.80432, 432.11200, 246.06485, 478.65512,   0.90760,   0.00000],\n",
       "        [268.67703, 150.64253, 474.78333, 310.17166,   0.89746,   3.00000]], device='cuda:0')"
      ]
     },
     "execution_count": 54,
     "metadata": {},
     "output_type": "execute_result"
    }
   ],
   "source": [
    "image_result.__dict__['pred'][0]"
   ]
  },
  {
   "cell_type": "code",
   "execution_count": 66,
   "id": "4f75a646",
   "metadata": {},
   "outputs": [],
   "source": [
    "t_np = image_result.__dict__['pred'][0].cpu().numpy() #convert to Numpy array\n",
    "df = pd.DataFrame(t_np, columns=['x_first', 'y_first', 'x_second', 'y_second', 'probability', 'type']) #convert to a dataframe\n",
    "df['type'] = df['type'].apply(lambda x: image_result.__dict__['names'][int(x)])\n",
    "df.to_csv(\"testfile.csv\") #save to file"
   ]
  },
  {
   "cell_type": "code",
   "execution_count": 57,
   "id": "c70b0219",
   "metadata": {},
   "outputs": [
    {
     "data": {
      "text/plain": [
       "array([[     372.54,      412.12,      453.61,      497.47,     0.91602,           0],\n",
       "       [      131.8,      432.11,      246.06,      478.66,      0.9076,           0],\n",
       "       [     268.68,      150.64,      474.78,      310.17,     0.89746,           3]], dtype=float32)"
      ]
     },
     "execution_count": 57,
     "metadata": {},
     "output_type": "execute_result"
    }
   ],
   "source": [
    "image_result.__dict__['pred'][0].cpu().numpy()"
   ]
  },
  {
   "cell_type": "code",
   "execution_count": null,
   "id": "df52b775",
   "metadata": {},
   "outputs": [],
   "source": []
  }
 ],
 "metadata": {
  "kernelspec": {
   "display_name": "Python 3 (ipykernel)",
   "language": "python",
   "name": "python3"
  },
  "language_info": {
   "codemirror_mode": {
    "name": "ipython",
    "version": 3
   },
   "file_extension": ".py",
   "mimetype": "text/x-python",
   "name": "python",
   "nbconvert_exporter": "python",
   "pygments_lexer": "ipython3",
   "version": "3.7.9"
  }
 },
 "nbformat": 4,
 "nbformat_minor": 5
}
