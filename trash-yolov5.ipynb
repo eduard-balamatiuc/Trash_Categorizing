{
 "cells": [
  {
   "cell_type": "code",
   "execution_count": 1,
   "id": "f4d201f7",
   "metadata": {},
   "outputs": [
    {
     "name": "stderr",
     "output_type": "stream",
     "text": [
      "YOLOv5  2022-3-14 torch 1.11.0+cu113 CUDA:0 (NVIDIA GeForce RTX 3050 Laptop GPU, 4096MiB)\n",
      "\n",
      "Fusing layers... \n",
      "Model Summary: 213 layers, 7074853 parameters, 0 gradients\n",
      "Adding AutoShape... \n"
     ]
    }
   ],
   "source": [
    "import torch\n",
    "model = torch.hub.load(r'D:\\My-personal-projects\\My-personal-projects\\ML - Trash Categorizing\\yolov5-master', 'custom', path=r'D:\\My-personal-projects\\My-personal-projects\\ML - Trash Categorizing\\yolov5 training weights\\second.pt', source = 'local', force_reload=True)"
   ]
  },
  {
   "cell_type": "code",
   "execution_count": 9,
   "id": "549fe8c8",
   "metadata": {},
   "outputs": [
    {
     "name": "stderr",
     "output_type": "stream",
     "text": [
      "image 1/1: 750x750 6 Aluminium foils, 1 Single-use carrier bag\n",
      "Speed: 12.0ms pre-process, 124.0ms inference, 6.0ms NMS per image at shape (1, 3, 640, 640)\n",
      "Saved 1 image to \u001b[1mD:\\My-personal-projects\\My-personal-projects\\ML - Trash Categorizing\\results\\result1.jpg\u001b[0m\n"
     ]
    }
   ],
   "source": [
    "import cv2\n",
    "\n",
    "from PIL import Image\n",
    "img1 = Image.open(r'D:\\My-personal-projects\\My-personal-projects\\ML - Trash Categorizing\\BCCD_sample_images\\trash_img.jpg')  # PIL image\n",
    "\n",
    "\n",
    "# Inference\n",
    "results = model(img1, size=640)\n",
    "results.print()  \n",
    "results.show()\n",
    "results.save(save_dir = r'D:\\My-personal-projects\\My-personal-projects\\ML - Trash Categorizing\\results\\result1.jpg')\n"
   ]
  },
  {
   "cell_type": "code",
   "execution_count": 6,
   "id": "dcc480ba",
   "metadata": {},
   "outputs": [
    {
     "name": "stdout",
     "output_type": "stream",
     "text": [
      "Help on method save in module models.common:\n",
      "\n",
      "save(save_dir='runs/detect/exp') method of models.common.Detections instance\n",
      "\n"
     ]
    }
   ],
   "source": [
    "help(results.save)"
   ]
  },
  {
   "cell_type": "code",
   "execution_count": null,
   "id": "82967e25",
   "metadata": {},
   "outputs": [],
   "source": []
  }
 ],
 "metadata": {
  "kernelspec": {
   "display_name": "Python 3 (ipykernel)",
   "language": "python",
   "name": "python3"
  },
  "language_info": {
   "codemirror_mode": {
    "name": "ipython",
    "version": 3
   },
   "file_extension": ".py",
   "mimetype": "text/x-python",
   "name": "python",
   "nbconvert_exporter": "python",
   "pygments_lexer": "ipython3",
   "version": "3.7.9"
  }
 },
 "nbformat": 4,
 "nbformat_minor": 5
}
